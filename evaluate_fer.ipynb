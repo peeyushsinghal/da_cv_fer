{
 "cells": [
  {
   "cell_type": "markdown",
   "metadata": {},
   "source": [
    "### Task evaluation"
   ]
  },
  {
   "cell_type": "markdown",
   "metadata": {},
   "source": [
    "#### Loading Models\n",
    "Please note the models output `task,domain,feature`"
   ]
  },
  {
   "cell_type": "code",
   "execution_count": null,
   "metadata": {},
   "outputs": [],
   "source": [
    "! pip install pandas"
   ]
  },
  {
   "cell_type": "code",
   "execution_count": 16,
   "metadata": {},
   "outputs": [],
   "source": [
    "import torch\n",
    "from pathlib import Path\n",
    "import pandas as pd\n",
    "\n",
    "import torch.nn as nn\n",
    "\n",
    "from data_config import DataConfig\n",
    "from model_DANN import DANN\n",
    "from ds_sfew import DatasetSFEW\n",
    "from ds_expw import EXPW\n",
    "from run_config import RunConfig\n"
   ]
  },
  {
   "cell_type": "code",
   "execution_count": 4,
   "metadata": {},
   "outputs": [
    {
     "name": "stdout",
     "output_type": "stream",
     "text": [
      "cpu\n"
     ]
    }
   ],
   "source": [
    "use_cuda = torch.cuda.is_available()\n",
    "device = torch.device(\"cuda\" if use_cuda else \"cpu\")\n",
    "print(device)"
   ]
  },
  {
   "cell_type": "markdown",
   "metadata": {},
   "source": [
    "#### Loading Models to evaluate"
   ]
  },
  {
   "cell_type": "code",
   "execution_count": 5,
   "metadata": {},
   "outputs": [
    {
     "name": "stdout",
     "output_type": "stream",
     "text": [
      "non_dann_sfew_12_12.pt locked and loaded\n",
      "dann_sfew_expw_20_12.pt locked and loaded\n"
     ]
    }
   ],
   "source": [
    "dataconfig_inference = DataConfig() \n",
    "\n",
    "# NON DANN\n",
    "non_dann_model_sfew_name = 'non_dann_sfew_12_12.pt'\n",
    "non_dann_model_inference = DANN(num_classes=7) # skeleton copy\n",
    "NON_DANN_SFEW_DIR = dataconfig_inference.NON_DANN_SFEW_DIR # Path(self.MODEL_DIR,\"non_dann_sfew\")\n",
    "\n",
    "try:\n",
    "    non_dann_model_inference.load_state_dict(torch.load(Path(NON_DANN_SFEW_DIR, non_dann_model_sfew_name),\n",
    "                                                        map_location=torch.device(device)))\n",
    "    print(f'{non_dann_model_sfew_name} locked and loaded')\n",
    "except:\n",
    "    print(f' problem in loading {non_dann_model_sfew_name}')\n",
    "\n",
    "# DANN\n",
    "dann_model_sfew_expw_name = 'dann_sfew_expw_20_12.pt'\n",
    "dann_model_sfew_expw_inference = DANN(num_classes=7) # skeleton copy\n",
    "DANN_SFEW_EXPW_DIR = dataconfig_inference.DANN_SFEW_EXPW_DIR # Path(self.MODEL_DIR,\"dann_sfew_expw\")\n",
    "try:\n",
    "    dann_model_sfew_expw_inference.load_state_dict(torch.load(Path(DANN_SFEW_EXPW_DIR, dann_model_sfew_expw_name),\n",
    "                                                              map_location=torch.device(device)))\n",
    "    print(f'{dann_model_sfew_expw_name} locked and loaded')\n",
    "except:\n",
    "    print(f' problem in loading {dann_model_sfew_expw_name}')\n",
    "\n",
    "# EWC DANN\n",
    "ewc_dann_model_sfew_expw_name = 'ewc_dann_sfew_expw_20_12.pt'\n",
    "ewc_dann_model_sfew_expw_inference = DANN(num_classes=7) # skeleton copy\n",
    "EWC_DANN_SFEW_EXPW_DIR = dataconfig_inference.EWC_DANN_SFEW_EXPW_DIR # Path(self.MODEL_DIR,\"ewc_dann_sfew_expw\")\n",
    "try:\n",
    "    ewc_dann_model_sfew_expw_inference.load_state_dict(torch.load(Path(EWC_DANN_SFEW_EXPW_DIR, ewc_dann_model_sfew_expw_name),\n",
    "                                                              map_location=torch.device(device)))\n",
    "    print(f'{ewc_dann_model_sfew_expw_name} locked and loaded')\n",
    "except:\n",
    "    print(f' problem in loading {ewc_dann_model_sfew_expw_name}')   \n"
   ]
  },
  {
   "cell_type": "markdown",
   "metadata": {},
   "source": [
    "### Dataloaders for source and target"
   ]
  },
  {
   "cell_type": "code",
   "execution_count": 9,
   "metadata": {},
   "outputs": [
    {
     "name": "stdout",
     "output_type": "stream",
     "text": [
      "self.BASE_PATH -dataset,self.EXTRACT_DIR-dataset\\sfew,self.ZIP_FILE_PATH - dataset\\SFEW_2.zip \n",
      "Directory dataset\\sfew already exists.\n",
      "Files exist in dataset\\sfew, extraction not done\n",
      "Unzipped Files already exist in dataset\\sfew\\Train, not extracted\n",
      "Unzipped Files already exist in dataset\\sfew\\Val, not extracted\n"
     ]
    }
   ],
   "source": [
    "sfew = DatasetSFEW()\n",
    "sfew_train_loader, sfew_val_loader = sfew.get_dataloader()"
   ]
  },
  {
   "cell_type": "code",
   "execution_count": 10,
   "metadata": {},
   "outputs": [
    {
     "name": "stdout",
     "output_type": "stream",
     "text": [
      "Directory dataset\\expwds already exists.\n",
      "Directory dataset\\expwds already exists.\n"
     ]
    }
   ],
   "source": [
    "expw_obj = EXPW()\n",
    "expw_train_ds, expw_val_ds = expw_obj.get_dataset()\n",
    "expw_train_loader, expw_val_loader = expw_obj.get_dataloader()"
   ]
  },
  {
   "cell_type": "markdown",
   "metadata": {},
   "source": [
    "#### Printing comparison"
   ]
  },
  {
   "cell_type": "code",
   "execution_count": 15,
   "metadata": {},
   "outputs": [],
   "source": [
    "#@title Typical Test Function\n",
    "#TODO : move this to common file\n",
    "\n",
    "def get_correct_predictions(prediction, labels):\n",
    "    \"\"\"\n",
    "    Function to return total number of correct predictions\n",
    "    :param prediction: Model predictions on a given sample of data\n",
    "    :param labels: Correct labels of a given sample of data\n",
    "    :return: Number of correct predictions\n",
    "    \"\"\"\n",
    "    return prediction.argmax(dim=1).eq(labels.argmax(dim=1)).sum().item()\n",
    "\n",
    "def test_model(model, device, data_loader, mode= 'test',\n",
    "               class_loss_function = nn.CrossEntropyLoss() ):\n",
    "    model.eval() # evaluation mode\n",
    "\n",
    "    # variables to track loss and accuracy\n",
    "    test_loss = 0.0\n",
    "    correct = 0\n",
    "\n",
    "    # Disable gradient updation\n",
    "    with torch.no_grad():\n",
    "        # Iterate over each batch and fetch images and labels from the batch\n",
    "        for batch_idx, batch in enumerate(data_loader):\n",
    "            images, labels = batch[0].to(device), batch[1].to(device)\n",
    "            \n",
    "            class_output, _ , _ = model(images) # forward pass, output = {class, domain, feature}\n",
    "            class_loss = class_loss_function(class_output,labels) # Calculate Loss\n",
    "\n",
    "            test_loss += class_loss.item() # sum up batch loss\n",
    "\n",
    "            # Sum up batch correct predictions\n",
    "            correct += get_correct_predictions(class_output, labels)\n",
    "\n",
    "    # Calculate test loss for a epoch\n",
    "    test_loss /= len(data_loader.dataset)\n",
    "    accuracy = 100. * correct / len(data_loader.dataset)\n",
    "\n",
    "    print('Test / Val: Average loss: {:.4f}, Accuracy: {}/{} ({:.2f}%)\\n'.format(test_loss, correct, len(data_loader.dataset),\n",
    "        accuracy))\n",
    "    \n",
    "\n",
    "    return correct, test_loss, accuracy\n",
    "\n"
   ]
  },
  {
   "cell_type": "code",
   "execution_count": 18,
   "metadata": {},
   "outputs": [
    {
     "name": "stdout",
     "output_type": "stream",
     "text": [
      "Test / Val: Average loss: 0.4706, Accuracy: 96/436 (22.02%)\n",
      "\n",
      "Test / Val: Average loss: 0.4963, Accuracy: 2071/13620 (15.21%)\n",
      "\n",
      "Test / Val: Average loss: 0.4934, Accuracy: 104/436 (23.85%)\n",
      "\n",
      "Test / Val: Average loss: 0.4948, Accuracy: 2138/13620 (15.70%)\n",
      "\n"
     ]
    }
   ],
   "source": [
    "runconfig = RunConfig()\n",
    "_,_,non_dann_accuracy_source = test_model(model =non_dann_model_inference,\n",
    "                                 device=device,\n",
    "                                 data_loader=sfew_val_loader,\n",
    "                                 class_loss_function=runconfig.criterion_class )\n",
    "\n",
    "_,_,non_dann_accuracy_target = test_model(model =non_dann_model_inference,\n",
    "                                 device=device,\n",
    "                                 data_loader=expw_val_loader,\n",
    "                                 class_loss_function=runconfig.criterion_class )\n",
    "\n",
    "_,_,dann_accuracy_source = test_model(model =dann_model_sfew_expw_inference,\n",
    "                                 device=device,\n",
    "                                 data_loader=sfew_val_loader,\n",
    "                                 class_loss_function=runconfig.criterion_class )\n",
    "\n",
    "_,_,dann_accuracy_target = test_model(model =dann_model_sfew_expw_inference,\n",
    "                                 device=device,\n",
    "                                 data_loader=expw_val_loader,\n",
    "                                 class_loss_function=runconfig.criterion_class )\n",
    "\n",
    "_,_,ewc_dann_accuracy_source = test_model(model =ewc_dann_model_sfew_expw_inference,\n",
    "                                 device=device,\n",
    "                                 data_loader=sfew_val_loader,\n",
    "                                 class_loss_function=runconfig.criterion_class )\n",
    "\n",
    "_,_,ewc_dann_accuracy_target = test_model(model =ewc_dann_model_sfew_expw_inference,\n",
    "                                 device=device,\n",
    "                                 data_loader=expw_val_loader,\n",
    "                                 class_loss_function=runconfig.criterion_class )\n"
   ]
  },
  {
   "cell_type": "code",
   "execution_count": 29,
   "metadata": {},
   "outputs": [
    {
     "name": "stdout",
     "output_type": "stream",
     "text": [
      "ewc_dann_sfew_expw_20_12.pt locked and loaded\n",
      "Test / Val: Average loss: 0.4963, Accuracy: 102/436 (23.39%)\n",
      "\n",
      "Test / Val: Average loss: 0.4866, Accuracy: 2256/13620 (16.56%)\n",
      "\n"
     ]
    }
   ],
   "source": [
    "# ewc_dann_model_sfew_expw_name = 'ewc_dann_sfew_expw_20_12.pt'\n",
    "# ewc_dann_model_sfew_expw_inference = DANN(num_classes=7) # skeleton copy\n",
    "# EWC_DANN_SFEW_EXPW_DIR = dataconfig_inference.EWC_DANN_SFEW_EXPW_DIR # Path(self.MODEL_DIR,\"ewc_dann_sfew_expw\")\n",
    "# try:\n",
    "#     ewc_dann_model_sfew_expw_inference.load_state_dict(torch.load(Path(EWC_DANN_SFEW_EXPW_DIR, ewc_dann_model_sfew_expw_name),\n",
    "#                                                               map_location=torch.device(device)))\n",
    "#     print(f'{ewc_dann_model_sfew_expw_name} locked and loaded')\n",
    "# except:\n",
    "#     print(f' problem in loading {ewc_dann_model_sfew_expw_name}')   \n",
    "\n",
    "# _,_,ewc_dann_accuracy_source = test_model(model =ewc_dann_model_sfew_expw_inference,\n",
    "#                                  device=device,\n",
    "#                                  data_loader=sfew_val_loader,\n",
    "#                                  class_loss_function=runconfig.criterion_class )\n",
    "\n",
    "# _,_,ewc_dann_accuracy_target = test_model(model =ewc_dann_model_sfew_expw_inference,\n",
    "#                                  device=device,\n",
    "#                                  data_loader=expw_val_loader,\n",
    "#                                  class_loss_function=runconfig.criterion_class )"
   ]
  },
  {
   "cell_type": "code",
   "execution_count": 31,
   "metadata": {},
   "outputs": [
    {
     "name": "stdout",
     "output_type": "stream",
     "text": [
      "Empty DataFrame\n",
      "Columns: [model_class, trained_on, accuracy_source, accuracy_target]\n",
      "Index: []\n",
      "{'model_class': 'Non_DANN', 'trained_on': 'sfew source', 'accuracy_source': 22.01834862385321, 'accuracy_target': 15.205580029368576}\n",
      "{'model_class': 'DANN', 'trained_on': 'sfew source + expw target', 'accuracy_source': 23.853211009174313, 'accuracy_target': 15.697503671071953}\n"
     ]
    },
    {
     "name": "stderr",
     "output_type": "stream",
     "text": [
      "C:\\Users\\Admin\\AppData\\Local\\Temp\\ipykernel_14332\\4160264040.py:17: FutureWarning: The behavior of DataFrame concatenation with empty or all-NA entries is deprecated. In a future version, this will no longer exclude empty or all-NA columns when determining the result dtypes. To retain the old behavior, exclude the relevant entries before the concat operation.\n",
      "  df_nice_results = pd.concat([df_nice_results, pd.DataFrame(dict_input, index=[0])], ignore_index=True)\n"
     ]
    },
    {
     "data": {
      "text/html": [
       "<div>\n",
       "<style scoped>\n",
       "    .dataframe tbody tr th:only-of-type {\n",
       "        vertical-align: middle;\n",
       "    }\n",
       "\n",
       "    .dataframe tbody tr th {\n",
       "        vertical-align: top;\n",
       "    }\n",
       "\n",
       "    .dataframe thead th {\n",
       "        text-align: right;\n",
       "    }\n",
       "</style>\n",
       "<table border=\"1\" class=\"dataframe\">\n",
       "  <thead>\n",
       "    <tr style=\"text-align: right;\">\n",
       "      <th></th>\n",
       "      <th>model_class</th>\n",
       "      <th>trained_on</th>\n",
       "      <th>accuracy_source</th>\n",
       "      <th>accuracy_target</th>\n",
       "    </tr>\n",
       "  </thead>\n",
       "  <tbody>\n",
       "    <tr>\n",
       "      <th>0</th>\n",
       "      <td>Non_DANN</td>\n",
       "      <td>sfew source</td>\n",
       "      <td>22.018349</td>\n",
       "      <td>15.205580</td>\n",
       "    </tr>\n",
       "    <tr>\n",
       "      <th>1</th>\n",
       "      <td>DANN</td>\n",
       "      <td>sfew source + expw target</td>\n",
       "      <td>23.853211</td>\n",
       "      <td>15.697504</td>\n",
       "    </tr>\n",
       "    <tr>\n",
       "      <th>2</th>\n",
       "      <td>EWC_DANN</td>\n",
       "      <td>sfew source + expw target</td>\n",
       "      <td>23.394495</td>\n",
       "      <td>16.563877</td>\n",
       "    </tr>\n",
       "  </tbody>\n",
       "</table>\n",
       "</div>"
      ],
      "text/plain": [
       "  model_class                 trained_on  accuracy_source  accuracy_target\n",
       "0    Non_DANN                sfew source        22.018349        15.205580\n",
       "1        DANN  sfew source + expw target        23.853211        15.697504\n",
       "2    EWC_DANN  sfew source + expw target        23.394495        16.563877"
      ]
     },
     "execution_count": 31,
     "metadata": {},
     "output_type": "execute_result"
    }
   ],
   "source": [
    "source= 'sfew'\n",
    "target = 'expw'\n",
    "\n",
    "col_name = ['model_class','trained_on','accuracy_source','accuracy_target']\n",
    "df_nice_results = pd.DataFrame(columns = col_name)\n",
    "print(df_nice_results)\n",
    "dict_input = {}\n",
    "dict_input = {'model_class': 'Non_DANN', \n",
    "                   'trained_on': str(source)+ \" source\",\n",
    "                #    'accuracy_source':dict_non_dann_losses_list_sfew_expw['test_accuracy_source'],\n",
    "                #    'accuracy_target':dict_non_dann_losses_list_sfew_expw['test_accuracy_target'],\n",
    "                   'accuracy_source':non_dann_accuracy_source,\n",
    "                   'accuracy_target':non_dann_accuracy_target\n",
    "                   }\n",
    "print(dict_input)\n",
    "df_nice_results = pd.concat([df_nice_results, pd.DataFrame(dict_input, index=[0])], ignore_index=True)\n",
    "\n",
    "\n",
    "dict_input = {'model_class': 'DANN', \n",
    "                   'trained_on': str(source)+\" source + \"+str(target) + \" target\",\n",
    "                  #  'accuracy_source':dict_dann_losses_list_sfew_expw['test_accuracy_source'],\n",
    "                  #  'accuracy_target':dict_dann_losses_list_sfew_expw['test_accuracy_target'],\n",
    "                   'accuracy_source':dann_accuracy_source,\n",
    "                   'accuracy_target':dann_accuracy_target\n",
    "                   }\n",
    "print(dict_input)\n",
    "\n",
    "df_nice_results = pd.concat([df_nice_results, pd.DataFrame(dict_input, index=[0])], ignore_index=True)\n",
    "\n",
    "\n",
    "dict_input = {'model_class': 'EWC_DANN', \n",
    "                   'trained_on': str(source)+\" source + \"+str(target) + \" target\",\n",
    "                  #  'accuracy_source':dict_ewc_dann_losses_list_sfew_expw['test_accuracy_source'],\n",
    "                  #  'accuracy_target':dict_ewc_dann_losses_list_sfew_expw['test_accuracy_target'],\n",
    "                   'accuracy_source':ewc_dann_accuracy_source,\n",
    "                   'accuracy_target':ewc_dann_accuracy_target\n",
    "                   }\n",
    "\n",
    "df_nice_results = pd.concat([df_nice_results, pd.DataFrame(dict_input, index=[0])], ignore_index=True)\n",
    "\n",
    "\n",
    "df_nice_results"
   ]
  },
  {
   "cell_type": "markdown",
   "metadata": {},
   "source": [
    "### Bias Evaluation"
   ]
  },
  {
   "cell_type": "code",
   "execution_count": null,
   "metadata": {},
   "outputs": [],
   "source": []
  }
 ],
 "metadata": {
  "kernelspec": {
   "display_name": "fer",
   "language": "python",
   "name": "python3"
  },
  "language_info": {
   "codemirror_mode": {
    "name": "ipython",
    "version": 3
   },
   "file_extension": ".py",
   "mimetype": "text/x-python",
   "name": "python",
   "nbconvert_exporter": "python",
   "pygments_lexer": "ipython3",
   "version": "3.10.11"
  }
 },
 "nbformat": 4,
 "nbformat_minor": 2
}
